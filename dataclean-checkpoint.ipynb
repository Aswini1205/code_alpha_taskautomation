{
 "cells": [
  {
   "cell_type": "code",
   "execution_count": 1,
   "id": "750d1082-64f7-448e-a64c-c1a59686193c",
   "metadata": {},
   "outputs": [
    {
     "name": "stdout",
     "output_type": "stream",
     "text": [
      "Data has been cleaned and will be saved as: cleaned_geographic-units-by-industry-and-statistical-area-2000-2023-descending-order-February-2025-11-1635.CSV\n",
      "\n",
      "  industry  statistical_area  employees\n",
      "0     Tech             200.0       5000\n",
      "1  Finance             150.0       3000\n",
      "2   Health             100.0       2000\n"
     ]
    }
   ],
   "source": [
    "import pandas as pd\n",
    "from datetime import datetime\n",
    "\n",
    "# Sample data (simulating CSV content)\n",
    "data = {\n",
    "    \"Industry\": [\"Tech\", \"Finance\", \"Health\", \"Tech\", \"Finance\", None],\n",
    "    \"Statistical Area\": [200, 150, 100, 200, None, 250],\n",
    "    \"Employees\": [5000, 3000, 2000, 5000, 3500, 1800]\n",
    "}\n",
    "\n",
    "# Create DataFrame\n",
    "df = pd.DataFrame(data)\n",
    "\n",
    "# Drop duplicates\n",
    "df.drop_duplicates(inplace=True)\n",
    "\n",
    "# Handle missing values (remove rows with missing values)\n",
    "df.dropna(inplace=True)\n",
    "\n",
    "# Standardize column names (lowercase and replace spaces with underscores)\n",
    "df.columns = df.columns.str.lower().str.replace(\" \", \"_\")\n",
    "\n",
    "# Sort data in descending order by 'statistical_area'\n",
    "df.sort_values(by=\"statistical_area\", ascending=False, inplace=True)\n",
    "\n",
    "# Generate cleaned file name with timestamp\n",
    "timestamp = datetime.now().strftime(\"%B-%Y-%d-%H%M\")\n",
    "cleaned_file_name = f\"cleaned_geographic-units-by-industry-and-statistical-area-2000-2023-descending-order-{timestamp}.CSV\"\n",
    "\n",
    "# Print final cleaned DataFrame\n",
    "print(f\"Data has been cleaned and will be saved as: {cleaned_file_name}\\n\")\n",
    "print(df)"
   ]
  },
  {
   "cell_type": "code",
   "execution_count": null,
   "id": "0cdb826b-c7b1-4c13-9e9f-ba41b8c592ca",
   "metadata": {},
   "outputs": [],
   "source": []
  }
 ],
 "metadata": {
  "kernelspec": {
   "display_name": "Python [conda env:base] *",
   "language": "python",
   "name": "conda-base-py"
  },
  "language_info": {
   "codemirror_mode": {
    "name": "ipython",
    "version": 3
   },
   "file_extension": ".py",
   "mimetype": "text/x-python",
   "name": "python",
   "nbconvert_exporter": "python",
   "pygments_lexer": "ipython3",
   "version": "3.12.7"
  }
 },
 "nbformat": 4,
 "nbformat_minor": 5
}
